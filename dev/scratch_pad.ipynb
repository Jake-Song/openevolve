{
 "cells": [
  {
   "cell_type": "code",
   "execution_count": 1,
   "id": "711c21df",
   "metadata": {},
   "outputs": [],
   "source": [
    "import numpy as np"
   ]
  },
  {
   "cell_type": "code",
   "execution_count": 2,
   "id": "482d4bed",
   "metadata": {},
   "outputs": [],
   "source": [
    "bounds = (-5, 5)"
   ]
  },
  {
   "cell_type": "code",
   "execution_count": 3,
   "id": "f0e65b77",
   "metadata": {},
   "outputs": [],
   "source": [
    "best_x = np.random.uniform(bounds[0], bounds[1])\n",
    "best_y = np.random.uniform(bounds[0], bounds[1])\n"
   ]
  },
  {
   "cell_type": "code",
   "execution_count": 4,
   "id": "07a30cef",
   "metadata": {},
   "outputs": [
    {
     "data": {
      "text/plain": [
       "(1.410902684640992, 0.6435085836142704)"
      ]
     },
     "execution_count": 4,
     "metadata": {},
     "output_type": "execute_result"
    }
   ],
   "source": [
    "best_x, best_y"
   ]
  },
  {
   "cell_type": "code",
   "execution_count": null,
   "id": "0ddd59ee",
   "metadata": {},
   "outputs": [],
   "source": []
  }
 ],
 "metadata": {
  "kernelspec": {
   "display_name": ".venv",
   "language": "python",
   "name": "python3"
  },
  "language_info": {
   "codemirror_mode": {
    "name": "ipython",
    "version": 3
   },
   "file_extension": ".py",
   "mimetype": "text/x-python",
   "name": "python",
   "nbconvert_exporter": "python",
   "pygments_lexer": "ipython3",
   "version": "3.10.0"
  }
 },
 "nbformat": 4,
 "nbformat_minor": 5
}
